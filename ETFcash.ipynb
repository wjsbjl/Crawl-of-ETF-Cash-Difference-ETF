{
 "cells": [
  {
   "cell_type": "markdown",
   "metadata": {},
   "source": [
    "# 测试"
   ]
  },
  {
   "cell_type": "code",
   "execution_count": 1,
   "metadata": {},
   "outputs": [],
   "source": [
    "import requests\n",
    "from bs4 import BeautifulSoup\n",
    "import xlwt\n",
    "\n",
    "\n",
    "def request_web(url):\n",
    "    headers = {\n",
    "            'User-Agent': 'Mozilla/5.0 (Windows NT 10.0; Win64; x64) AppleWebKit/537.36 (KHTML, like Gecko) '\n",
    "                        'Chrome/88.0.4324.146 Safari/537.36', # 这是一个header，伪装成电脑\n",
    "        }\n",
    "\n",
    "    try:\n",
    "        response = requests.get(url=url, headers=headers)\n",
    "        if response.status_code == 200:\n",
    "            return response.text\n",
    "    except requests.RequestException:\n",
    "        return None\n",
    "\n",
    "url = 'https://www.efunds.com.cn/fund/159901.shtml'\n",
    "html = request_web(url)\n",
    "soup = BeautifulSoup(html, 'lxml')\n",
    "\n",
    "list = soup.find(class_='table_feilv etf-table-List2').find_all('tr') \n",
    "SZ100 = list[1].find(class_='table_right').string # 易方达深证100交易型开放式指数证券投资基金"
   ]
  },
  {
   "cell_type": "code",
   "execution_count": 2,
   "metadata": {},
   "outputs": [
    {
     "data": {
      "text/plain": [
       "'-2,757.02'"
      ]
     },
     "execution_count": 2,
     "metadata": {},
     "output_type": "execute_result"
    }
   ],
   "source": [
    "SZ100"
   ]
  },
  {
   "cell_type": "code",
   "execution_count": 5,
   "metadata": {},
   "outputs": [],
   "source": [
    "import requests\n",
    "from bs4 import BeautifulSoup\n",
    "import xlwt\n",
    "\n",
    "\n",
    "def request_web(url):\n",
    "    headers = {\n",
    "            'User-Agent': 'Mozilla/5.0 (Windows NT 10.0; Win64; x64) AppleWebKit/537.36 (KHTML, like Gecko) '\n",
    "                        'Chrome/88.0.4324.146 Safari/537.36', # 这是一个header，伪装成电脑\n",
    "        }\n",
    "\n",
    "    try:\n",
    "        response = requests.get(url=url, headers=headers)\n",
    "        if response.status_code == 200:\n",
    "            return response.text\n",
    "    except requests.RequestException:\n",
    "        return None"
   ]
  },
  {
   "cell_type": "code",
   "execution_count": 30,
   "metadata": {},
   "outputs": [
    {
     "data": {
      "text/plain": [
       "-2757.02"
      ]
     },
     "execution_count": 30,
     "metadata": {},
     "output_type": "execute_result"
    }
   ],
   "source": [
    "url = 'https://www.efunds.com.cn/fund/159901.shtml'\n",
    "soup = BeautifulSoup(request_web(url), 'lxml')\n",
    "list = soup.find(class_='table_feilv etf-table-List2').find_all('tr') \n",
    "SZ100 = list[1].find(class_='table_right').string # 易方达深证100交易型开放式指数证券投资基金\n",
    "float(SZ100.replace(',',\"\"))"
   ]
  },
  {
   "cell_type": "markdown",
   "metadata": {},
   "source": [
    "## 标的"
   ]
  },
  {
   "attachments": {},
   "cell_type": "markdown",
   "metadata": {},
   "source": [
    "|名称|代码|公司|\n",
    "|-|-|-|\n",
    "|沪深300|510300|华泰柏瑞沪深300ETF|\n",
    "|上证50|510050||\n",
    "|中证500|510500||\n",
    "|中证1000|512100||\n",
    "|中证1000|159633||"
   ]
  },
  {
   "cell_type": "code",
   "execution_count": 32,
   "metadata": {},
   "outputs": [],
   "source": [
    "import re"
   ]
  },
  {
   "cell_type": "markdown",
   "metadata": {},
   "source": [
    "## 测试"
   ]
  },
  {
   "cell_type": "code",
   "execution_count": 35,
   "metadata": {},
   "outputs": [],
   "source": [
    "url = 'http://money.finance.sina.com.cn/fund/go.php/vAkFundInfo_JJSGSHJBXX/q/510300.phtml'\n",
    "soup = BeautifulSoup(request_web(url), 'lxml')\n",
    "list = soup.find(class_='tagmain').find_all('td') \n",
    "HS300 = [float(i) for i in re.findall(r\"\\d+\\.?\\d*\",str(list[16]))]"
   ]
  },
  {
   "cell_type": "code",
   "execution_count": 51,
   "metadata": {},
   "outputs": [],
   "source": [
    "url = 'http://money.finance.sina.com.cn/fund/go.php/vAkFundInfo_JJSGSHJBXX/q/510050.phtml'\n",
    "soup = BeautifulSoup(request_web(url), 'lxml')\n",
    "list = soup.find(class_='tagmain').find_all('td') \n",
    "SZ050 = [float(i) for i in re.findall(r\"\\d+\\.?\\d*\",str(list[16]))]\n",
    "SZ050"
   ]
  },
  {
   "cell_type": "code",
   "execution_count": 54,
   "metadata": {},
   "outputs": [],
   "source": [
    "ETFcode = [510300,510050,510500,512100,159633]\n",
    "for ETF in ETFcode:\n",
    "    url = f'http://money.finance.sina.com.cn/fund/go.php/vAkFundInfo_JJSGSHJBXX/q/{ETF}.phtml'\n",
    "    soup = BeautifulSoup(request_web(url), 'lxml')\n",
    "    list = soup.find(class_='tagmain').find_all('td') \n",
    "    _ = [float(i) for i in re.findall(r\"\\d+\\.?\\d*\",str(list[16]))]\n",
    "    exec(f'a{ETF} = _')"
   ]
  },
  {
   "cell_type": "code",
   "execution_count": 58,
   "metadata": {},
   "outputs": [
    {
     "data": {
      "text/plain": [
       "{'name': 'ETFcash'}"
      ]
     },
     "execution_count": 58,
     "metadata": {},
     "output_type": "execute_result"
    }
   ],
   "source": [
    "ETFcash = dict()\n",
    "ETFcash['name'] = 'ETFcash'\n",
    "ETFcash"
   ]
  },
  {
   "cell_type": "markdown",
   "metadata": {},
   "source": [
    "## 汇总"
   ]
  },
  {
   "cell_type": "code",
   "execution_count": 62,
   "metadata": {},
   "outputs": [],
   "source": [
    "import pandas as pd"
   ]
  },
  {
   "cell_type": "code",
   "execution_count": 80,
   "metadata": {},
   "outputs": [],
   "source": [
    "ETFcash = dict()\n",
    "ETFcash['基金标的'] = ['沪深300','上证50','中证500','中证1000','中证1000']\n",
    "ETFcash['基金代码'] = [510300,510050,510500,512100,159633]\n",
    "cash_amount = []\n",
    "cash_date = []\n",
    "for ETF in ETFcash['基金代码']:\n",
    "    url = f'http://money.finance.sina.com.cn/fund/go.php/vAkFundInfo_JJSGSHJBXX/q/{ETF}.phtml'\n",
    "    soup = BeautifulSoup(request_web(url), 'lxml')\n",
    "    list = soup.find(class_='tagmain').find_all('td') \n",
    "    _ = [float(i) for i in re.findall(r\"\\d+\\.?\\d*\",str(list[16]))]\n",
    "    __ = re.findall(r\"\\d+\\-?\\d+\\-?\\d+\",str(list[10]))\n",
    "    cash_amount.append(_[0])\n",
    "    cash_date.append(__[0])\n",
    "ETFcash['预估现金差额'] = cash_amount\n",
    "ETFcash['更新日期'] = cash_date\n"
   ]
  },
  {
   "cell_type": "code",
   "execution_count": 81,
   "metadata": {},
   "outputs": [
    {
     "data": {
      "text/html": [
       "<div>\n",
       "<style scoped>\n",
       "    .dataframe tbody tr th:only-of-type {\n",
       "        vertical-align: middle;\n",
       "    }\n",
       "\n",
       "    .dataframe tbody tr th {\n",
       "        vertical-align: top;\n",
       "    }\n",
       "\n",
       "    .dataframe thead th {\n",
       "        text-align: right;\n",
       "    }\n",
       "</style>\n",
       "<table border=\"1\" class=\"dataframe\">\n",
       "  <thead>\n",
       "    <tr style=\"text-align: right;\">\n",
       "      <th></th>\n",
       "      <th>基金标的</th>\n",
       "      <th>预估现金差额</th>\n",
       "      <th>更新日期</th>\n",
       "    </tr>\n",
       "    <tr>\n",
       "      <th>基金代码</th>\n",
       "      <th></th>\n",
       "      <th></th>\n",
       "      <th></th>\n",
       "    </tr>\n",
       "  </thead>\n",
       "  <tbody>\n",
       "    <tr>\n",
       "      <th>510300</th>\n",
       "      <td>沪深300</td>\n",
       "      <td>131447.84</td>\n",
       "      <td>2023-02-03</td>\n",
       "    </tr>\n",
       "    <tr>\n",
       "      <th>510050</th>\n",
       "      <td>上证50</td>\n",
       "      <td>84185.89</td>\n",
       "      <td>2023-02-03</td>\n",
       "    </tr>\n",
       "    <tr>\n",
       "      <th>510500</th>\n",
       "      <td>中证500</td>\n",
       "      <td>1128.91</td>\n",
       "      <td>2023-02-03</td>\n",
       "    </tr>\n",
       "    <tr>\n",
       "      <th>512100</th>\n",
       "      <td>中证1000</td>\n",
       "      <td>1690.87</td>\n",
       "      <td>2023-02-03</td>\n",
       "    </tr>\n",
       "    <tr>\n",
       "      <th>159633</th>\n",
       "      <td>中证1000</td>\n",
       "      <td>11089.30</td>\n",
       "      <td>2023-02-03</td>\n",
       "    </tr>\n",
       "  </tbody>\n",
       "</table>\n",
       "</div>"
      ],
      "text/plain": [
       "          基金标的     预估现金差额        更新日期\n",
       "基金代码                                 \n",
       "510300   沪深300  131447.84  2023-02-03\n",
       "510050    上证50   84185.89  2023-02-03\n",
       "510500   中证500    1128.91  2023-02-03\n",
       "512100  中证1000    1690.87  2023-02-03\n",
       "159633  中证1000   11089.30  2023-02-03"
      ]
     },
     "execution_count": 81,
     "metadata": {},
     "output_type": "execute_result"
    }
   ],
   "source": [
    "pd.DataFrame(ETFcash).set_index('基金代码').to_csv('./result/ETFcash.csv', encoding='utf-8',index = '基金代码')\n",
    "pd.DataFrame(ETFcash).set_index('基金代码')"
   ]
  },
  {
   "cell_type": "markdown",
   "metadata": {},
   "source": [
    "# Wind"
   ]
  },
  {
   "cell_type": "code",
   "execution_count": 82,
   "metadata": {},
   "outputs": [
    {
     "ename": "ModuleNotFoundError",
     "evalue": "No module named 'WindPy'",
     "output_type": "error",
     "traceback": [
      "\u001b[0;31m---------------------------------------------------------------------------\u001b[0m",
      "\u001b[0;31mModuleNotFoundError\u001b[0m                       Traceback (most recent call last)",
      "\u001b[0;32m/var/folders/dc/5hscf4cj45767ypphg15zwd80000gn/T/ipykernel_4183/2560524785.py\u001b[0m in \u001b[0;36m<module>\u001b[0;34m\u001b[0m\n\u001b[0;32m----> 1\u001b[0;31m \u001b[0;32mfrom\u001b[0m \u001b[0mWindPy\u001b[0m \u001b[0;32mimport\u001b[0m \u001b[0mw\u001b[0m\u001b[0;34m\u001b[0m\u001b[0;34m\u001b[0m\u001b[0m\n\u001b[0m\u001b[1;32m      2\u001b[0m \u001b[0;34m\u001b[0m\u001b[0m\n\u001b[1;32m      3\u001b[0m \u001b[0mw\u001b[0m\u001b[0;34m.\u001b[0m\u001b[0mstart\u001b[0m\u001b[0;34m(\u001b[0m\u001b[0;34m)\u001b[0m\u001b[0;34m\u001b[0m\u001b[0;34m\u001b[0m\u001b[0m\n\u001b[1;32m      4\u001b[0m \u001b[0;32mif\u001b[0m \u001b[0mw\u001b[0m\u001b[0;34m.\u001b[0m\u001b[0misconnected\u001b[0m\u001b[0;34m(\u001b[0m\u001b[0;34m)\u001b[0m\u001b[0;34m:\u001b[0m\u001b[0;34m\u001b[0m\u001b[0;34m\u001b[0m\u001b[0m\n\u001b[1;32m      5\u001b[0m     \u001b[0mprint\u001b[0m\u001b[0;34m(\u001b[0m\u001b[0mw\u001b[0m\u001b[0;34m.\u001b[0m\u001b[0mwsd\u001b[0m\u001b[0;34m(\u001b[0m\u001b[0;34m\"000001.SZ\"\u001b[0m\u001b[0;34m,\u001b[0m \u001b[0;34m\"sec_name\"\u001b[0m\u001b[0;34m,\u001b[0m \u001b[0;34m\"2022-05-08\"\u001b[0m\u001b[0;34m,\u001b[0m \u001b[0;34m\"2022-06-08\"\u001b[0m\u001b[0;34m,\u001b[0m \u001b[0;34m\"\"\u001b[0m\u001b[0;34m)\u001b[0m\u001b[0;34m.\u001b[0m\u001b[0mData\u001b[0m\u001b[0;34m)\u001b[0m\u001b[0;34m\u001b[0m\u001b[0;34m\u001b[0m\u001b[0m\n",
      "\u001b[0;31mModuleNotFoundError\u001b[0m: No module named 'WindPy'"
     ]
    }
   ],
   "source": [
    "from WindPy import w\n",
    "\n",
    "w.start()\n",
    "if w.isconnected():\n",
    "    print(w.wsd(\"000001.SZ\", \"sec_name\", \"2022-05-08\", \"2022-06-08\", \"\").Data)\n",
    "else:\n",
    "    print(\"wind配置失败\")\n"
   ]
  },
  {
   "cell_type": "code",
   "execution_count": null,
   "metadata": {},
   "outputs": [],
   "source": []
  }
 ],
 "metadata": {
  "kernelspec": {
   "display_name": "base",
   "language": "python",
   "name": "python3"
  },
  "language_info": {
   "codemirror_mode": {
    "name": "ipython",
    "version": 3
   },
   "file_extension": ".py",
   "mimetype": "text/x-python",
   "name": "python",
   "nbconvert_exporter": "python",
   "pygments_lexer": "ipython3",
   "version": "3.9.13"
  },
  "orig_nbformat": 4,
  "vscode": {
   "interpreter": {
    "hash": "24c9bf9679c19508254b09029f33fce1000a18288c3c89330491a753078146f3"
   }
  }
 },
 "nbformat": 4,
 "nbformat_minor": 2
}
